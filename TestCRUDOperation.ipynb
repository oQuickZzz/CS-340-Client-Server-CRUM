{
 "cells": [
  {
   "cell_type": "code",
   "execution_count": 2,
   "id": "9b99a71e",
   "metadata": {},
   "outputs": [
    {
     "name": "stdout",
     "output_type": "stream",
     "text": [
      "Create operation successful: True\n",
      "Documents found: [{'_id': ObjectId('665e1bb055a202ce529c14c5'), 'name': 'Max', 'type': 'Dog', 'age': 5}]\n",
      "Delete operation successful: True\n"
     ]
    }
   ],
   "source": [
    "# Importing the AnimalShelter class from the module\n",
    "from AnimalShelter import AnimalShelter\n",
    "\n",
    "# Instantiate the class\n",
    "shelter = AnimalShelter()\n",
    "\n",
    "# Test the create method\n",
    "data_to_create = {\"name\": \"Max\", \"type\": \"Dog\", \"age\": 5}\n",
    "create_status = shelter.create(data_to_create)\n",
    "print(\"Create operation successful:\", create_status)\n",
    "\n",
    "# Test the read method\n",
    "query = {\"type\": \"Dog\"}\n",
    "read_results = shelter.read(query)\n",
    "print(\"Documents found:\", read_results)\n",
    "\n",
    "# Example query to delete\n",
    "delete_query = {\"name\": \"Max\", \"type\": \"Dog\"}\n",
    "\n",
    "# Call the delete method\n",
    "delete_success = shelter.delete(delete_query)\n",
    "print(\"Delete operation successful:\", delete_success)\n",
    "\n"
   ]
  },
  {
   "cell_type": "code",
   "execution_count": null,
   "id": "97d70a0d",
   "metadata": {},
   "outputs": [],
   "source": []
  }
 ],
 "metadata": {
  "kernelspec": {
   "display_name": "Python 3 (ipykernel)",
   "language": "python",
   "name": "python3"
  },
  "language_info": {
   "codemirror_mode": {
    "name": "ipython",
    "version": 3
   },
   "file_extension": ".py",
   "mimetype": "text/x-python",
   "name": "python",
   "nbconvert_exporter": "python",
   "pygments_lexer": "ipython3",
   "version": "3.9.12"
  }
 },
 "nbformat": 4,
 "nbformat_minor": 5
}
